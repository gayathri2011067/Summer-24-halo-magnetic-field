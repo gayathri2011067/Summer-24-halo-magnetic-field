{
 "cells": [
  {
   "cell_type": "markdown",
   "metadata": {},
   "source": [
    "## Working code of dynamic quenching 2014 paper\n",
    "### U_0 = 0km/s, R_k = 0.3"
   ]
  },
  {
   "cell_type": "code",
   "execution_count": 1,
   "metadata": {},
   "outputs": [],
   "source": [
    "import numpy as np\n",
    "import matplotlib.pyplot as plt\n",
    "from tqdm import tqdm\n",
    "import astropy.units as u\n",
    "from prettytable import PrettyTable"
   ]
  },
  {
   "cell_type": "code",
   "execution_count": 2,
   "metadata": {},
   "outputs": [
    {
     "name": "stdout",
     "output_type": "stream",
     "text": [
      "7.714285714285714 Myr\n"
     ]
    }
   ],
   "source": [
    "T=27\n",
    "Nt=int(2000*T)\n",
    "Nz=51\n",
    "print(T/3.5,\" in Myr\")"
   ]
  },
  {
   "cell_type": "code",
   "execution_count": 3,
   "metadata": {},
   "outputs": [],
   "source": [
    "radius_dim=4*u.kpc\n",
    "r_d_dim = 10*u.kpc\n",
    "h_d_dim=0.35*u.kpc\n",
    "eta_dim = (10e25*(u.cm**2/u.s)).to(u.kpc**2/u.Gyr)\n",
    "h_dim=h_d_dim*np.sqrt(1+((radius_dim/r_d_dim)**2))\n",
    "td_dim=(h_dim**2/eta_dim.to(u.kpc**2/u.Gyr))\n",
    "B_0_dim=8.2e-6*u.G\n",
    "omega_0_dim=127*u.km/(u.s*u.kpc)\n",
    "r_omega_dim=2*u.kpc\n",
    "l_dim=0.1*u.kpc\n",
    "omega_dim = omega_0_dim*(1+((radius_dim/r_omega_dim)**2))**(-1/2)\n",
    "alpha_0_dim=(l_dim**2)*omega_dim/h_dim\n",
    "G_dim=-omega_dim\n",
    "G_dim = -45.6*u.km/(u.s*u.kpc)\n",
    "\n",
    "U_0_dim=1*u.km/u.s\n",
    "#km kpc/s\n",
    "k_dim=0.1*(u.km*u.kpc/u.s)\n",
    "\n",
    "\n",
    "R_dim=20*u.kpc\n",
    "z_i_dim = -h_dim\n",
    "z_f_dim= h_dim\n"
   ]
  },
  {
   "cell_type": "code",
   "execution_count": 4,
   "metadata": {},
   "outputs": [],
   "source": [
    "z_i=(z_i_dim/h_dim).value\n",
    "z_f=(z_f_dim/h_dim).value\n",
    "r = np.linspace(z_i, z_f, Nz)\n",
    "\n",
    "eta=(eta_dim/eta_dim).value\n",
    "omega_0=(omega_0_dim.to(1/u.Gyr)*(h_dim/eta_dim)).value\n",
    "r_omega=(r_omega_dim/z_f_dim).value\n",
    "h_d=(h_d_dim/h_dim).value\n",
    "r_d=(r_d_dim/h_dim).value\n",
    "l=(l_dim/h_dim).value\n",
    "\n",
    "U_0=((U_0_dim.to(u.kpc/u.Gyr))*eta_dim/h_dim**2).value\n",
    "#km kpc/s to dimensionless\n",
    "k=((k_dim.to(u.kpc**2/u.Gyr))/eta_dim).value\n",
    "B_0=(B_0_dim/B_0_dim).value\n",
    "R=(R_dim/h_dim).value\n",
    "radius=(radius_dim/h_dim).value\n",
    "h=(h_dim/h_dim).value\n",
    "td=(td_dim*eta_dim/h_dim**2).value\n",
    "B_eq=B_0*np.exp(-(radius/R))-r**2/(2*h**2)\n",
    "#alpha=alpha_m+alpha_tilda\n",
    "U_z=r/h\n",
    "alpha_0=(alpha_0_dim*h_dim/eta_dim).value\n",
    "#km/kpc s to dimensionless\n",
    "G=((G_dim.to(1/u.Gyr))*h_dim**2/eta_dim).value\n",
    "\n",
    "alpha_tilda=np.sin((np.pi*(r)))\n",
    "\n",
    "\n",
    "R_alpha=alpha_0 \n",
    "R_omega=G\n",
    "R_u=U_0\n",
    "R_k=k\n",
    "\n"
   ]
  },
  {
   "cell_type": "code",
   "execution_count": 5,
   "metadata": {},
   "outputs": [
    {
     "name": "stdout",
     "output_type": "stream",
     "text": [
      "+-----------+-------------------------------+--------------------------------------------------------------------+\n",
      "| Parameter |   Value in Dimensional Units  |                    Value in Dimensionless Units                    |\n",
      "+-----------+-------------------------------+--------------------------------------------------------------------+\n",
      "|    eta    | 0.3314384403542896 kpc2 / Gyr |                                1.0                                 |\n",
      "|   radius  |            4.0 kpc            |                         10.611162181545819                         |\n",
      "|    r_d    |            4.0 kpc            |                         26.52790545386455                          |\n",
      "|    h_d    |            0.35 kpc           |                         0.9284766908852592                         |\n",
      "|     h     |    0.37696153649941533 kpc    |                                1.0                                 |\n",
      "|     td    |     0.4287372335209606 Gyr    |                                1.0                                 |\n",
      "|    B_eq   |         B0 = 8.2e-06 G        | [0.31873075 0.35793075 0.39553075 0.43153075 0.46593075 0.49873075 |\n",
      "|           |                               |  0.52993075 0.55953075 0.58753075 0.61393075 0.63873075 0.66193075 |\n",
      "|           |                               |  0.68353075 0.70353075 0.72193075 0.73873075 0.75393075 0.76753075 |\n",
      "|           |                               |  0.77953075 0.78993075 0.79873075 0.80593075 0.81153075 0.81553075 |\n",
      "|           |                               |  0.81793075 0.81873075 0.81793075 0.81553075 0.81153075 0.80593075 |\n",
      "|           |                               |  0.79873075 0.78993075 0.77953075 0.76753075 0.75393075 0.73873075 |\n",
      "|           |                               |  0.72193075 0.70353075 0.68353075 0.66193075 0.63873075 0.61393075 |\n",
      "|           |                               |  0.58753075 0.55953075 0.52993075 0.49873075 0.46593075 0.43153075 |\n",
      "|           |                               |                  0.39553075 0.35793075 0.31873075]                 |\n",
      "|  alpha_0  |   1.5066822773464252 km / s   |                         1.7136252079807854                         |\n",
      "|     G     |       -45.6 km / (kpc s)      |                         -19.99445016544451                         |\n",
      "|  omega_0  |       127.0 km / (kpc s)      |                         147.7240838071198                          |\n",
      "|  r_omega  |            2.0 kpc            |                         5.305581090772909                          |\n",
      "|     l     |            0.1 kpc            |                         0.2652790545386455                         |\n",
      "|    B_0    |           8.2e-06 G           |                                1.0                                 |\n",
      "|     R     |            20.0 kpc           |                          53.0558109077291                          |\n",
      "|    U_0    |           1.0 km / s          |                         2.3854055236742004                         |\n",
      "|     k     |         0.1 km kpc / s        |                         0.3085677581491367                         |\n",
      "|    z_i    |    -0.37696153649941533 kpc   |                                -1.0                                |\n",
      "|    z_f    |    0.37696153649941533 kpc    |                                1.0                                 |\n",
      "|  R_alpha  |   1.5066822773464252 km / s   |                         1.7136252079807854                         |\n",
      "|  R_omega  |       127.0 km / (kpc s)      |                         -19.99445016544451                         |\n",
      "|    R_u    |       2.3854055236742004      |                         2.3854055236742004                         |\n",
      "|    R_k    |       0.3085677581491367      |                         0.3085677581491367                         |\n",
      "+-----------+-------------------------------+--------------------------------------------------------------------+\n"
     ]
    }
   ],
   "source": [
    "table = PrettyTable()\n",
    "table.field_names = [\"Parameter\", \"Value in Dimensional Units\", \"Value in Dimensionless Units\"]\n",
    "table.add_row([\"eta\", eta_dim, eta])\n",
    "table.add_row([\"radius\", radius_dim, radius])\n",
    "table.add_row([\"r_d\", radius_dim, r_d])\n",
    "table.add_row([\"h_d\", h_d_dim, h_d])\n",
    "table.add_row([\"h\", h_dim, h])\n",
    "table.add_row([\"td\", td_dim, td])\n",
    "table.add_row([\"B_eq\", f'B0 = {B_0_dim}', B_eq])\n",
    "table.add_row([\"alpha_0\", alpha_0_dim, alpha_0])\n",
    "table.add_row([\"G\", G_dim, G])\n",
    "table.add_row([\"omega_0\", omega_0_dim, omega_0])\n",
    "table.add_row([\"r_omega\", r_omega_dim, r_omega])\n",
    "table.add_row([\"l\", l_dim, l])\n",
    "table.add_row([\"B_0\", B_0_dim, B_0])\n",
    "table.add_row([\"R\", R_dim, R])\n",
    "table.add_row([\"U_0\", U_0_dim, U_0])\n",
    "table.add_row([\"k\", k_dim, k])\n",
    "table.add_row([\"z_i\", z_i_dim, z_i])\n",
    "table.add_row([\"z_f\", z_f_dim, z_f])\n",
    "table.add_row([\"R_alpha\", alpha_0_dim, R_alpha])\n",
    "table.add_row([\"R_omega\", omega_0_dim, R_omega])\n",
    "table.add_row([\"R_u\", U_0, R_u])\n",
    "table.add_row([\"R_k\", k, R_k])\n",
    "# table.add_row([\"R_B\", B_0_dim, B_eq[0]])\n",
    "\n",
    "\n",
    "print(table)\n"
   ]
  },
  {
   "cell_type": "code",
   "execution_count": 6,
   "metadata": {},
   "outputs": [
    {
     "data": {
      "image/png": "[encoded data removed]",
      "text/plain": [
       "<Figure size 640x480 with 1 Axes>"
      ]
     },
     "metadata": {},
     "output_type": "display_data"
    }
   ],
   "source": [
    "#initial conditions\n",
    "\n",
    "r = np.linspace(z_i, z_f, Nz)\n",
    "\n",
    "dr = r[1] - r[0]               \n",
    "\n",
    "\n",
    "def B_phi0(r):\n",
    "    return np.zeros_like(r)\n",
    "\n",
    "def B_r0(r):\n",
    "    return 10e-3*B_0*(1-r**2)*np.exp(-r**2)\n",
    "def alpha_m0(r):\n",
    "    return np.zeros_like(r)\n",
    "B_r = B_r0(r)\n",
    "B_phi=B_phi0(r)\n",
    "alpha_m=alpha_m0(r)\n",
    "dt = T/Nt\n",
    "\n",
    "plt.plot(r,B_r)\n",
    "plt.xlabel('r (in Kpc)')\n",
    "plt.ylabel('B (in Gauss)')\n",
    "plt.plot(r,B_phi)\n",
    "plt.legend(['$B_r$',r'$B_{\\phi}$'])\n",
    "plt.title(r'Initial conditions for $B_r$ and $B_{\\phi}$')\n",
    "plt.savefig('Initizeros_like(r)al_conditions_save.png')\n",
    "plt.show()"
   ]
  },
  {
   "cell_type": "code",
   "execution_count": 7,
   "metadata": {},
   "outputs": [],
   "source": [
    "def spatial_derivative(B_r, B_phi,dr,ghost_zone_type,fd_order):\n",
    "\n",
    "#GHOST ZONE HANDLING\n",
    "    B_r=np.copy(B_r)\n",
    "    B_phi=np.copy(B_phi)\n",
    "\n",
    "    cell_needed = int(fd_order/2)\n",
    "    if ghost_zone_type == 'symmetric':\n",
    "        B_r = np.pad(B_r,(cell_needed,cell_needed),'reflect')\n",
    "        B_phi = np.pad(B_phi,(cell_needed,cell_needed),'reflect')\n",
    "    elif ghost_zone_type == 'smooth':\n",
    "        B_r = np.pad(B_r,(cell_needed,cell_needed),'reflect',reflect_type='odd')\n",
    "        B_phi = np.pad(B_phi,(cell_needed,cell_needed),'reflect',reflect_type='odd')\n",
    "    elif ghost_zone_type == 'anti-symmetric':\n",
    "        B_r = np.pad(B_r,(cell_needed,cell_needed),'reflect')\n",
    "        B_phi = np.pad(B_phi,(cell_needed,cell_needed),'reflect') \n",
    "        for i in range(1,cell_needed+1):\n",
    "            B_r[cell_needed-i] = -B_r[cell_needed-i]\n",
    "            B_r[-cell_needed-1+i]=-B_r[-cell_needed-1+i]\n",
    "            B_phi[cell_needed-i] = -B_phi[cell_needed-i]\n",
    "            B_phi[-cell_needed-1+i]=-B_phi[-cell_needed-1+i]\n",
    "      \n",
    "    elif ghost_zone_type == 'relative anti-symmetric':\n",
    "        B_r = np.pad(B_r,(cell_needed,cell_needed),'constant')\n",
    "        B_phi = np.pad(B_phi,(cell_needed,cell_needed),'constant')\n",
    "        for i in range (1,cell_needed+1):\n",
    "            B_r[cell_needed-i] = 2*B_r[cell_needed] - B_r[cell_needed+i]\n",
    "            B_r[-cell_needed-1+i]=2*B_r[-cell_needed-1] - B_r[-cell_needed-1-i]\n",
    "            B_phi[cell_needed-i] = 2*B_phi[cell_needed] - B_phi[cell_needed+i]\n",
    "            B_phi[-cell_needed-1+i]=2*B_phi[-cell_needed-1] - B_phi[-cell_needed-1-i]\n",
    "    else:\n",
    "        B_r = np.pad(B_r,(cell_needed,cell_needed),'constant')\n",
    "        B_phi = np.pad(B_phi,(cell_needed,cell_needed),'constant')\n",
    "\n",
    "#FINITE DIFFERENCE\n",
    "    \n",
    "    if fd_order == 2:\n",
    "        dB_r_dr = (-B_r[:-2] + B_r[1:])/(2*dr)\n",
    "        dB_phi_dr = (-B_phi[:-2] + B_phi[1:])/(2*dr)\n",
    "        d_sq_Br_dr = (B_r[:-2]-2*B_r[1:-1]+B_r[1:])/(dr**2)\n",
    "        d_sq_Bphi_dr = (B_phi[:-2]-2*B_phi[1:-1]+B_phi[1:])/(dr**2)\n",
    "\n",
    "    elif fd_order == 4:\n",
    "        dB_r_dr = (B_r[:-4] - (8*B_r[1:-3]) + (8*B_r[3:-1]) - B_r[4:]) / (12*dr)\n",
    "        dB_phi_dr = (B_phi[:-4] - (8*B_phi[1:-3]) + (8*B_phi[3:-1]) - B_phi[4:]) / (12*dr)\n",
    "        d_sq_Br_dr = ((-B_r[:-4]) + (16*B_r[1:-3]) + (-30*B_r[2:-2]) + (16*B_r[3:-1]) (-B_r[4:])) / (12*(dr**2))\n",
    "        d_sq_Bphi_dr = ((-B_phi[:-4]) + (16*B_phi[1:-3]) + (-30*B_phi[2:-2]) + (16*B_phi[3:-1]) (-B_phi[4:])) / (12*(dr**2))\n",
    "\n",
    "    elif fd_order == 6:\n",
    "        dB_r_dr = ((-B_r[:-6]) + (9 * B_r[1:-5]) - (45*B_r[2:-4]) + (45*B_r[4:-2]) - (9*B_r[5:-1]) + B_r[6:]) / (60*dr)\n",
    "        dB_phi_dr = ((-B_phi[:-6]) + (9 * B_phi[1:-5]) - (45*B_phi[2:-4]) + (45*B_phi[4:-2]) - (9*B_phi[5:-1]) + B_phi[6:]) / (60*dr)\n",
    "        d_sq_Br_dr = ((2*B_r[:-6]) - (27*B_r[1:-5]) + (270*B_r[2:-4]) - (490*B_r[3:-3]) + (270*B_r[4:-2]) - (27*B_r[5:-1]) + (2*B_r[6:])) / (180*(dr**2))\n",
    "        d_sq_Bphi_dr = ((2*B_phi[:-6]) - (27*B_phi[1:-5]) + (270*B_phi[2:-4]) - (490*B_phi[3:-3]) + (270*B_phi[4:-2]) - (27*B_phi[5:-1]) + (2*B_phi[6:])) / (180*(dr**2))\n",
    "\n",
    "    elif fd_order == 8:\n",
    "        dB_r_dr = ((3*B_r[:-8]) - (32*B_r[1:-7]) + (168*B_r[2:-6]) - (672*B_r[3:-5]) + (672*B_r[5:-3]) - (168*B_r[6:-2]) + (32*B_r[7:-1]) - (3*B_r[8:])) / (840*dr)\n",
    "        dB_phi_dr = ((3*B_phi[:-8]) - (32*B_phi[1:-7]) + (168*B_phi[2:-6]) - (672*B_phi[3:-5]) + (672*B_phi[5:-3]) - (168*B_phi[6:-2]) + (32*B_phi[7:-1]) - (3*B_phi[8:])) / (840*dr)\n",
    "        d_sq_Br_dr = ((-9*B_r[:-8]) + (128*B_r[1:-7]) - (1008*B_r[2:-6]) + (8064*B_r[3:-5]) - (14350*B_r[4:-4]) + (8064*B_r[5:-3]) - (1008*B_r[6:-2]) + (128*B_r[7:-1]) - (9*B_r[8:])) / (5040*(dr**2))\n",
    "        d_sq_Bphi_dr = ((-9*B_phi[:-8]) + (128*B_phi[1:-7]) - (1008*B_phi[2:-6]) + (8064*B_phi[3:-5]) - (14350*B_phi[4:-4]) + (8064*B_phi[5:-3]) - (1008*B_phi[6:-2]) + (128*B_phi[7:-1]) - (9*B_phi[8:])) / (5040*(dr**2))\n",
    "\n",
    "    elif fd_order == 10:\n",
    "        dB_r_dr = ((-2*B_r[:-10]) + (25*B_r[1:-9]) - (150*B_r[2:-8]) + (600*B_r[3:-7]) - (2100*B_r[4:-6]) + (2100*B_r[6:-4]) - (600*B_r[7:-3]) + (150*B_r[8:-2]) - (25*B_r[9:-1]) + (2*B_r[10:])) / (2520*dr)\n",
    "        dB_phi_dr = ((-2*B_phi[:-10]) + (25*B_phi[1:-9]) - (150*B_phi[2:-8]) + (600*B_phi[3:-7]) - (2100*B_phi[4:-6]) + (2100*B_phi[6:-4]) - (600*B_phi[7:-3]) + (150*B_phi[8:-2]) - (25*B_phi[9:-1]) + (2*B_phi[10:])) / (2520*dr)\n",
    "        d_sq_Br_dr = ((8*B_r[:-10]) - (125*B_r[1:-9]) + (1000*B_r[2:-8]) - (6000*B_r[3:-7]) + (42000*B_r[4:-6]) - (73766*B_r[5:-5]) + (42000*B_r[6:-4]) - (6000*B_r[7:-3]) + (1000*B_r[8:-2]) - (125*B_r[9:-1]) + (8*B_r[10:])) / (25200*(dr**2))\n",
    "        d_sq_Bphi_dr = ((8*B_phi[:-10]) - (125*B_phi[1:-9]) + (1000*B_phi[2:-8]) - (6000*B_phi[3:-7]) + (42000*B_phi[4:-6]) - (73766*B_phi[5:-5]) + (42000*B_phi[6:-4]) - (6000*B_phi[7:-3]) + (1000*B_phi[8:-2]) - (125*B_phi[9:-1]) + (8*B_phi[10:])) / (25200*(dr**2))\n",
    "\n",
    "    else:\n",
    "        print('Invalid order of finite difference')\n",
    "        return\n",
    "\n",
    "    return dB_r_dr, dB_phi_dr, d_sq_Br_dr, d_sq_Bphi_dr\n",
    "       \n",
    "        \n"
   ]
  },
  {
   "cell_type": "code",
   "execution_count": 8,
   "metadata": {},
   "outputs": [],
   "source": [
    "def first_der(f_,dr,ghost_zone_type=None,order=6):\n",
    "    #GHOST ZONE HANDLING\n",
    "\n",
    "    cell_needed = int(order/2)\n",
    "    if ghost_zone_type == 'symmetric':\n",
    "        f_ = np.pad(f_,(cell_needed,cell_needed),'reflect')\n",
    "       \n",
    "    elif ghost_zone_type == 'smooth':\n",
    "        f_ = np.pad(f_,(cell_needed,cell_needed),'reflect',reflect_type='odd')\n",
    "    elif ghost_zone_type == 'anti-symmetric':\n",
    "        f_ = np.pad(f_,(cell_needed,cell_needed),'reflect')\n",
    "        for i in range(1,cell_needed+1):\n",
    "            f_[cell_needed-i] = -f_[cell_needed-i]\n",
    "            f_[-cell_needed-1+i]=-f_[-cell_needed-1+i]\n",
    "      \n",
    "        \n",
    "    elif ghost_zone_type == 'relative anti-symmetric':\n",
    "        f_ = np.pad(f_,(cell_needed,cell_needed),'constant')\n",
    "        for i in range (1,cell_needed+1):\n",
    "            f_[cell_needed-i] = 2*f_[cell_needed] - f_[cell_needed+i]\n",
    "            f_[-cell_needed-1+i]=2*f_[-cell_needed-1] - f_[-cell_needed-1-i]\n",
    "    else:\n",
    "        f_ = np.pad(f_,(cell_needed,cell_needed),'constant')\n",
    "\n",
    "    #FINITE DIFFERENCE\n",
    "    if order == 2:\n",
    "        df__dr = (-f_[:-2] + f_[1:])/(2*dr)\n",
    "    \n",
    "    elif order == 4:\n",
    "        df__dr = (f_[:-4] - (8*f_[1:-3]) + (8*f_[3:-1]) - f_[4:]) / (12*dr)\n",
    "\n",
    "    elif order == 6:\n",
    "        df__dr = ((-f_[:-6]) + (9 * f_[1:-5]) - (45*f_[2:-4]) + (45*f_[4:-2]) - (9*f_[5:-1]) + f_[6:]) / (60*dr)\n",
    "\n",
    "    elif order == 8:\n",
    "        df__dr = ((3*f_[:-8]) - (32*f_[1:-7]) + (168*f_[2:-6]) - (672*f_[3:-5]) + (672*f_[5:-3]) - (168*f_[6:-2]) + (32*f_[7:-1]) - (3*f_[8:])) / (840*dr)\n",
    "    \n",
    "    elif order == 10:\n",
    "        df__dr = ((-2*f_[:-10]) + (25*f_[1:-9]) - (150*f_[2:-8]) + (600*f_[3:-7]) - (2100*f_[4:-6]) + (2100*f_[6:-4]) - (600*f_[7:-3]) + (150*f_[8:-2]) - (25*f_[9:-1]) + (2*f_[10:])) / (2520*dr)\n",
    "        \n",
    "    else:\n",
    "        print('Invalid order of finite difference')\n",
    "        return\n",
    "\n",
    "    return df__dr\n",
    "       \n"
   ]
  },
  {
   "cell_type": "code",
   "execution_count": 9,
   "metadata": {},
   "outputs": [],
   "source": [
    "def second_der(f_,dr,ghost_zone_type=None,order=6):\n",
    "    #GHOST ZONE HANDLING\n",
    "\n",
    "    cell_needed = int(order/2)\n",
    "    if ghost_zone_type == 'symmetric':\n",
    "        f_ = np.pad(f_,(cell_needed,cell_needed),'reflect')\n",
    "       \n",
    "    elif ghost_zone_type == 'smooth':\n",
    "        f_ = np.pad(f_,(cell_needed,cell_needed),'reflect',reflect_type='odd')\n",
    "    elif ghost_zone_type == 'anti-symmetric':\n",
    "        f_ = np.pad(f_,(cell_needed,cell_needed),'reflect')\n",
    "        for i in range(1,cell_needed+1):\n",
    "            f_[cell_needed-i] = -f_[cell_needed-i]\n",
    "            f_[-cell_needed-1+i]=-f_[-cell_needed-1+i]\n",
    "      \n",
    "        \n",
    "    elif ghost_zone_type == 'relative anti-symmetric':\n",
    "        f_ = np.pad(f_,(cell_needed,cell_needed),'constant')\n",
    "        for i in range (1,cell_needed+1):\n",
    "            f_[cell_needed-i] = 2*f_[cell_needed] - f_[cell_needed+i]\n",
    "            f_[-cell_needed-1+i]=2*f_[-cell_needed-1] - f_[-cell_needed-1-i]\n",
    "    else:\n",
    "        f_ = np.pad(f_,(cell_needed,cell_needed),'constant')\n",
    "\n",
    "    #FINITE DIFFERENCE\n",
    "    if order == 2:\n",
    "        d_sq_f_dr = (f_[:-2]-2*f_[1:-1]+f_[2:])/(dr**2)\n",
    "    \n",
    "    elif order == 4:\n",
    "        d_sq_f_dr = ((-f_[:-4]) + (16*f_[1:-3]) + (-30*f_[2:-2]) + (16*f_[3:-1]) (-f_[4:])) / (12*(dr**2))\n",
    "\n",
    "    elif order == 6:\n",
    "        d_sq_f_dr = ((2*f_[:-6]) - (27*f_[1:-5]) + (270*f_[2:-4]) - (490*f_[3:-3]) + (270*f_[4:-2]) - (27*f_[5:-1]) + (2*f_[6:])) / (180*(dr**2))\n",
    "\n",
    "    elif order == 8:\n",
    "        d_sq_f_dr = ((-9*f_[:-8]) + (128*f_[1:-7]) - (1008*f_[2:-6]) + (8064*f_[3:- 5]) - (14350*f_[4:-4]) + (8064*f_[5:-3]) - (1008*f_[6:-2]) + (128*f_[7:-1]) - (9*f_[8:])) / (5040*(dr**2))\n",
    "\n",
    "    elif order == 10:\n",
    "        d_sq_f_dr = ((8*f_[:-10]) - (125*f_[1:-9]) + (1000*f_[2:-8]) - (6000*f_[3:-7]) + (42000*f_[4:-6]) - (73766*f_[5:-5]) + (42000*f_[6:-4]) - (6000*f_[7:-3]) + (1000*f_[8:-2]) - (125*f_[9:-1]) + (8*f_[10:])) / (25200*(dr**2))\n",
    "\n",
    "    else:\n",
    "        print('Invalid order of finite difference')\n",
    "        return\n",
    "    return d_sq_f_dr\n",
    "    "
   ]
  },
  {
   "cell_type": "code",
   "execution_count": 10,
   "metadata": {},
   "outputs": [],
   "source": [
    "# #equations\n",
    "# def dB_r_dt(B_r,B_phi,U_z,db_r_dr,d_sq_Br_dr,dt):\n",
    "#     return -((R_alpha/(1+(B_phi**2+B_r**2)/B_eq**2))*2*alpha_k*B_phi)/(np.pi*h)+(eta*np.pi**2*B_r)/(4*h**2)-(R_u*U_z*B_r)/(4*h)\n",
    "# def dB_phi_dt(B_phi,B_r,U_z,db_phi_dr,d_sq_Bphi_dr,dt):\n",
    "#     return R_omega*B_r + 2*alpha_k*B_r*(alpha_k/(1+(B_phi**2+B_r**2)/B_eq**2))/(np.pi*h) +eta*np.pi**2*B_phi/(4*h**2)- (U_z*B_phi*R_u)/(4*h)\n",
    "\n"
   ]
  },
  {
   "cell_type": "code",
   "execution_count": 11,
   "metadata": {},
   "outputs": [],
   "source": [
    "# # #equations\n",
    "# def dB_r_dt(B_r,B_phi,U_z,db_r_dr,d_sq_Br_dr,alpha,dt):\n",
    "#     return -(alpha_k*2*alpha*B_phi)/(n=p.pi*h)+(eta*np.pi**2*B_r)/(4*h**2)-(R_u*U_z*B_r)/(4*h)\n",
    "# def dB_phi_dt(B_phi,B_r,U_z,db_phi_dr,d_sq_Bphi_dr,alpha,dt):\n",
    "#     return R_omega*B_r + 2*alpha*B_r*alpha_k/(np.pi*h) +eta*np.pi**2*B_phi/(4*h**2)- (U_z*B_phi*R_u)/(4*h)\n",
    "# def d_alpha_m_dt(B_phi,B_r,U_z,db_phi_dr,d_sq_Bphi_dr,alpha,dt):\n",
    "#     return (-2*eta/(l*B_eq)**2)*(alpha_k*alpha*(B_phi+B_r) - (4*alpha_m*R_k)/(np.pi**2*h**2) + (R_u*U_z*alpha_m)/(4*h))\n"
   ]
  },
  {
   "cell_type": "code",
   "execution_count": 12,
   "metadata": {},
   "outputs": [],
   "source": [
    "# def dB_r_dt(B_r,B_phi,U_z,db_r_dr,d_sq_Br_dr,alpha,dealpha_kB_phi,dealpha_kB_r,der_uBr,der_uBphi,dt):\n",
    "#     return -alpha_k*dealpha_kB_phi + d_sq_Br_dr - R_u*der_uBr\n",
    "# def dB_phi_dt(B_phi,B_r,U_z,db_phi_dr,d_sq_Bphi_dr,alpha,dealpha_kB_phi,dealpha_kB_r,der_uBr,der_uBphi,dt):\n",
    "#     return R_omega*B_r + alpha_k*dealpha_kB_r + d_sq_Bphi_dr - R_u*der_uBphi\n",
    "# def d_alpha_m_dt(B_r,B_phi,U_z,db_r_dr,db_phi_dr,d_sq_Br_dr,alpha,dealpha_kB_phi,dealpha_kB_r,der_uBr,der_uBphi,der_ualpha_m,d_sq_alpha_m,dt):\n",
    "#     return (-2/(l*B_eq)**2)*((alpha_k*alpha_tilda+alpha_m)*(B_r**2+B_phi**2) - ((B_phi*db_r_dr)-(B_r*db_phi_dr)) )- ((R_u)*der_ualpha_m) + (R_k* d_sq_alpha_m)# "
   ]
  },
  {
   "cell_type": "code",
   "execution_count": 13,
   "metadata": {},
   "outputs": [],
   "source": [
    "def dB_r_dt(B_r,B_phi,U_z,db_r_dr,d_sq_Br_dr,db_phi_dr,d_sq_Bphi_dr,alpha_k,alpha_m,der_alpha_k,der_alpha_m,d_sq_alpha_m,dt):\n",
    "    return -(alpha_k+alpha_m)*db_phi_dr -B_phi*(der_alpha_k+der_alpha_m)+ d_sq_Br_dr \n",
    "def dB_phi_dt(B_phi,B_r,U_z,db_phi_dr,d_sq_Bphi_dr,db_r_dr,d_sq_Br_dr,alpha_k,alpha_m,der_alpha_k,der_alpha_m,d_sq_alpha_m,dt):\n",
    "    return R_omega*B_r + (alpha_k+alpha_m)*db_r_dr + B_r*(der_alpha_k+der_alpha_m) + d_sq_Bphi_dr\n",
    "def d_alpha_m_dt(B_r,B_phi,U_z,db_r_dr,db_phi_dr,d_sq_Br_dr,d_sq_Bphi_dr,alpha_k,alpha_m,der_alpha_k,der_alpha_m,d_sq_alpha_m,dt):\n",
    "    return -2*(1/(l*B_eq)**2)*((alpha_k+alpha_m)*(B_r**2+B_phi**2) - (B_phi*db_r_dr-B_r*db_phi_dr))  + R_k*d_sq_alpha_m\n"
   ]
  },
  {
   "cell_type": "code",
   "execution_count": 14,
   "metadata": {},
   "outputs": [
    {
     "name": "stdout",
     "output_type": "stream",
     "text": [
      "(3, 1, 51)\n"
     ]
    }
   ],
   "source": [
    "B_list = np.array([[B_r],[B_phi],[alpha_m]]) \n",
    "print(B_list.shape)\n"
   ]
  },
  {
   "cell_type": "code",
   "execution_count": 15,
   "metadata": {},
   "outputs": [
    {
     "name": "stderr",
     "output_type": "stream",
     "text": [
      "  0%|          | 78/54000 [00:00<09:30, 94.54it/s] "
     ]
    },
    {
     "name": "stderr",
     "output_type": "stream",
     "text": [
      "100%|██████████| 54000/54000 [56:29<00:00, 15.93it/s]\n"
     ]
    },
    {
     "name": "stdout",
     "output_type": "stream",
     "text": [
      "(3, 54001, 51)\n"
     ]
    }
   ],
   "source": [
    "#derivatived updated\n",
    "\n",
    "# def RK4(B_list, B_r, B_phi, alpha_tilda,alpha_m, U_z, dt, dr, Nt, l, B_eq, R_alpha, R_omega, R_u, R_k):\n",
    "#     for i in tqdm(range(Nt)):\n",
    "#         # Calculate spatial derivatives for current B_r, B_phi, and alpha_m\n",
    "#         db_r_dr, db_phi_dr, d_sq_Br_dr, d_sq_Bphi_dr = spatial_derivative(B_r, B_phi, dr, 'anti-symmetric', 6)\n",
    "#         der_alpha_k = first_der(alpha_tilda*B_r, dr, ghost_zone_type='symmetric', order=6)\n",
    "#         der_alpha_m = first_der(alpha_m*B_r, dr, ghost_zone_type='relative anti-symmetric', order=6)\n",
    "#         der_u = first_der(U_z*B_r, dr, ghost_zone_type='symmetric', order=6)\n",
    "#         d_sq_alpha_m = second_der(alpha_m, dr, ghost_zone_type='relative anti-symmetric', order=6)\n",
    "\n",
    "#         # Calculate k1 values\n",
    "#         k1_r = dB_r_dt(B_r, B_phi, U_z, db_r_dr, d_sq_Br_dr, db_phi_dr, d_sq_Bphi_dr, R_alpha, alpha_m, der_alpha_k, der_alpha_m, der_u, d_sq_alpha_m, dt)\n",
    "#         k1_phi = dB_phi_dt(B_phi, B_r, U_z, db_phi_dr, d_sq_Bphi_dr, db_r_dr, d_sq_Br_dr, R_omega, alpha_m, der_alpha_k, der_alpha_m, der_u, d_sq_alpha_m, dt)  \n",
    "#         k1_alpha_m = d_alpha_m_dt(B_r, B_phi, U_z, db_r_dr, db_phi_dr, d_sq_Br_dr, d_sq_Bphi_dr, R_alpha, alpha_m, der_alpha_k, der_alpha_m, der_u, d_sq_alpha_m, dt)\n",
    "\n",
    "#        #update B_r, B_phi, and alpha_m using k1 values\n",
    "#         B_r_k1 = B_r + 0.5*dt*k1_r\n",
    "#         B_phi_k1 = B_phi + 0.5*dt*k1_phi\n",
    "#         alpha_m_k1 = alpha_m + 0.5*dt*k1_alpha_m\n",
    "\n",
    "#         # Calculate spatial derivatives for B_r_k1, B_phi_k1, and alpha_m_k1\n",
    "#         db_r_dr_k1, db_phi_dr_k1, d_sq_Br_dr_k1, d_sq_Bphi_dr_k1 = spatial_derivative(B_r_k1, B_phi_k1, dr, 'anti-symmetric', 6)\n",
    "#         der_alpha_m_k1 = first_der(alpha_m_k1*B_r_k1, dr, ghost_zone_type='relative anti-symmetric', order=6)\n",
    "#         der_u_k1 = first_der(U_z*B_r_k1, dr, ghost_zone_type='symmetric', order=6)\n",
    "#         d_sq_alpha_m_k1 = second_der(alpha_m_k1, dr, ghost_zone_type='relative anti-symmetric', order=6)\n",
    "\n",
    "#         # Calculate k2 values\n",
    "#         k2_r = dB_r_dt(B_r_k1, B_phi_k1, U_z, db_r_dr_k1, d_sq_Br_dr_k1, db_phi_dr_k1, d_sq_Bphi_dr_k1, R_alpha, alpha_m_k1, der_alpha_k, der_alpha_m_k1, der_u_k1, d_sq_alpha_m_k1, dt)\n",
    "#         k2_phi = dB_phi_dt(B_phi_k1, B_r_k1, U_z, db_phi_dr_k1, d_sq_Bphi_dr_k1, db_r_dr_k1, d_sq_Br_dr_k1, R_omega, alpha_m_k1, der_alpha_k, der_alpha_m_k1, der_u_k1, d_sq_alpha_m_k1, dt)\n",
    "#         k2_alpha_m = d_alpha_m_dt(B_r_k1, B_phi_k1, U_z, db_r_dr_k1, db_phi_dr_k1, d_sq_Br_dr_k1, d_sq_Bphi_dr_k1, R_alpha, alpha_m_k1, der_alpha_k, der_alpha_m_k1, der_u_k1, d_sq_alpha_m_k1, dt)\n",
    "\n",
    "#         #update B_r, B_phi, and alpha_m using k2 values\n",
    "#         B_r_k2 = B_r + 0.5*dt*k2_r\n",
    "#         B_phi_k2 = B_phi + 0.5*dt*k2_phi\n",
    "#         alpha_m_k2 = alpha_m + 0.5*dt*k2_alpha_m\n",
    "\n",
    "#         # Calculate spatial derivatives for B_r_k2, B_phi_k2, and alpha_m_k2\n",
    "#         db_r_dr_k2, db_phi_dr_k2, d_sq_Br_dr_k2, d_sq_Bphi_dr_k2 = spatial_derivative(B_r_k2, B_phi_k2, dr, 'anti-symmetric', 6)\n",
    "#         der_alpha_m_k2 = first_der(alpha_m_k2*B_r_k2, dr, ghost_zone_type='relative anti-symmetric', order=6)\n",
    "#         der_u_k2 = first_der(U_z*B_r_k2, dr, ghost_zone_type='symmetric', order=6)\n",
    "#         d_sq_alpha_m_k2 = second_der(alpha_m_k2, dr, ghost_zone_type='relative anti-symmetric', order=6)\n",
    "\n",
    "#         # Calculate k3 values\n",
    "#         k3_r = dB_r_dt(B_r_k2, B_phi_k2, U_z, db_r_dr_k2, d_sq_Br_dr_k2, db_phi_dr_k2, d_sq_Bphi_dr_k2, R_alpha, alpha_m_k2, der_alpha_k, der_alpha_m_k2, der_u_k2, d_sq_alpha_m_k2, dt)\n",
    "#         k3_phi = dB_phi_dt(B_phi_k2, B_r_k2, U_z, db_phi_dr_k2, d_sq_Bphi_dr_k2, db_r_dr_k2, d_sq_Br_dr_k2, R_omega, alpha_m_k2, der_alpha_k, der_alpha_m_k2, der_u_k2, d_sq_alpha_m_k2, dt)\n",
    "#         k3_alpha_m = d_alpha_m_dt(B_r_k2, B_phi_k2, U_z, db_r_dr_k2, db_phi_dr_k2, d_sq_Br_dr_k2, d_sq_Bphi_dr_k2, R_alpha, alpha_m_k2, der_alpha_k, der_alpha_m_k2, der_u_k2, d_sq_alpha_m_k2, dt)\n",
    "\n",
    "#         #update B_r, B_phi, and alpha_m using k3 values\n",
    "#         B_r_k3 = B_r + dt*k3_r\n",
    "#         B_phi_k3 = B_phi + dt*k3_phi\n",
    "#         alpha_m_k3 = alpha_m + dt*k3_alpha_m\n",
    "        \n",
    "#         # Calculate spatial derivatives for B_r_k3, B_phi_k3, and alpha_m_k3\n",
    "#         db_r_dr_k3, db_phi_dr_k3, d_sq_Br_dr_k3, d_sq_Bphi_dr_k3 = spatial_derivative(B_r_k3, B_phi_k3, dr, 'anti-symmetric', 6)\n",
    "#         der_alpha_m_k3 = first_der(alpha_m_k3*B_r_k3, dr, ghost_zone_type='relative anti-symmetric', order=6)\n",
    "#         der_u_k3 = first_der(U_z*B_r_k3, dr, ghost_zone_type='symmetric', order=6)\n",
    "#         d_sq_alpha_m_k3 = second_der(alpha_m_k3, dr, ghost_zone_type='relative anti-symmetric', order=6)\n",
    "\n",
    "#         # Calculate k4 values\n",
    "#         k4_r = dB_r_dt(B_r_k3, B_phi_k3, U_z, db_r_dr_k3, d_sq_Br_dr_k3, db_phi_dr_k3, d_sq_Bphi_dr_k3, R_alpha, alpha_m_k3, der_alpha_k, der_alpha_m_k3, der_u_k3, d_sq_alpha_m_k3, dt)\n",
    "#         k4_phi = dB_phi_dt(B_phi_k3, B_r_k3, U_z, db_phi_dr_k3, d_sq_Bphi_dr_k3, db_r_dr_k3, d_sq_Br_dr_k3, R_omega, alpha_m_k3, der_alpha_k, der_alpha_m_k3, der_u_k3, d_sq_alpha_m_k3, dt)\n",
    "#         k4_alpha_m = d_alpha_m_dt(B_r_k3, B_phi_k3, U_z, db_r_dr_k3, db_phi_dr_k3, d_sq_Br_dr_k3, d_sq_Bphi_dr_k3, R_alpha, alpha_m_k3, der_alpha_k, der_alpha_m_k3, der_u_k3, d_sq_alpha_m_k3, dt)\n",
    "\n",
    "#         #update B_r, B_phi, and alpha_m using k4 values\n",
    "#         B_r = B_r + (dt/6)*(k1_r + 2*k2_r + 2*k3_r + k4_r)\n",
    "#         B_phi = B_phi + (dt/6)*(k1_phi + 2*k2_phi + 2*k3_phi + k4_phi)\n",
    "#         alpha_m = alpha_m + (dt/6)*(k1_alpha_m + 2*k2_alpha_m + 2*k3_alpha_m + k4_alpha_m)\n",
    "#         B_list = np.append(B_list,[[B_r],[B_phi],[alpha_m]],axis=1)\n",
    "#     return B_list\n",
    "\n",
    "\n",
    "\n",
    "\n",
    "# # Assuming alpha_k, B_eq, R_alpha, R_omega, R_u, R_k, Nt, and U_z are defined somewhere in your code\n",
    "# B_list = RK4(B_list, B_r, B_phi, alpha_tilda,alpha_m, U_z, dt, dr, Nt, l, B_eq, R_alpha, R_omega, R_u, R_k)\n",
    "# print(B_list.shape)\n",
    "# np.save(\"B_list_after alpha correction_trial 2.npy\", B_list)\n",
    "        \n",
    "\n",
    "#without updating derivatives\n",
    "\n",
    "def RK4(B_list, B_r, B_phi, alpha_m,alpha_k, U_z, dt, dr, Nt, l, B_eq, R_alpha, R_omega, R_u, R_k):\n",
    "    for i in tqdm(range(Nt)):\n",
    "        # Calculate spatial derivatives for current B_r, B_phi, and alpha_m\n",
    "        db_r_dr, db_phi_dr, d_sq_Br_dr, d_sq_Bphi_dr = spatial_derivative(B_r, B_phi, dr, 'anti-symmetric', 6)\n",
    "        der_alpha_k = first_der(alpha_k, dr, ghost_zone_type='symmetric', order=6)\n",
    "        der_alpha_m = first_der(alpha_m, dr, ghost_zone_type='relative anti-symmetric', order=6)\n",
    "        \n",
    "        d_sq_alpha_m = second_der(alpha_m, dr, ghost_zone_type='relative anti-symmetric', order=6)\n",
    "\n",
    "        # Calculate k1 values\n",
    "        k1_r = dB_r_dt(B_r,B_phi,U_z,db_r_dr,d_sq_Br_dr,db_phi_dr,d_sq_Bphi_dr,alpha_k,alpha_m,der_alpha_k,der_alpha_m,d_sq_alpha_m,dt)\n",
    "        k1_phi = dB_phi_dt(B_phi,B_r,U_z,db_phi_dr,d_sq_Bphi_dr,db_r_dr,d_sq_Br_dr,alpha_k,alpha_m,der_alpha_k,der_alpha_m,d_sq_alpha_m,dt) \n",
    "        k1_alpha_m = d_alpha_m_dt(B_r,B_phi,U_z,db_r_dr,db_phi_dr,d_sq_Br_dr,d_sq_Bphi_dr,alpha_k,alpha_m,der_alpha_k,der_alpha_m,d_sq_alpha_m,dt)\n",
    "     \n",
    "        #update B_r, B_phi, and alpha_m using k1 values\n",
    "        B_r_k1 = B_r + 0.5*dt*k1_r\n",
    "        B_phi_k1 = B_phi + 0.5*dt*k1_phi\n",
    "        alpha_m_k1 = alpha_m + 0.5*dt*k1_alpha_m\n",
    "\n",
    "        # Calculate spatial derivatives for alpha_m_k1\n",
    "        der_alpha_m_k1 = first_der(alpha_m_k1, dr, ghost_zone_type='relative anti-symmetric', order=6)\n",
    "        d_sq_alpha_m_k1 = second_der(alpha_m_k1, dr, ghost_zone_type='relative anti-symmetric', order=6)\n",
    "        db_r_dr, db_phi_dr, d_sq_Br_dr, d_sq_Bphi_dr = spatial_derivative(B_r_k1, B_phi_k1, dr, 'anti-symmetric', 6)\n",
    "        der_alpha_k = first_der(alpha_k, dr, ghost_zone_type='symmetric', order=6)\n",
    "\n",
    "        # Calculate k2 values\n",
    "        k2_r = dB_r_dt(B_r_k1,B_phi_k1,U_z,db_r_dr,d_sq_Br_dr,db_phi_dr,d_sq_Bphi_dr,alpha_k,alpha_m_k1,der_alpha_k,der_alpha_m_k1,d_sq_alpha_m_k1,dt)\n",
    "        k2_phi = dB_phi_dt(B_phi_k1,B_r_k1,U_z,db_phi_dr,d_sq_Bphi_dr,db_r_dr,d_sq_Br_dr,alpha_k,alpha_m_k1,der_alpha_k,der_alpha_m_k1,d_sq_alpha_m_k1,dt)\n",
    "        k2_alpha_m = d_alpha_m_dt(B_r_k1,B_phi_k1,U_z,db_r_dr,db_phi_dr,d_sq_Br_dr,d_sq_Bphi_dr,alpha_k,alpha_m_k1,der_alpha_k,der_alpha_m_k1,d_sq_alpha_m_k1,dt)\n",
    "\n",
    "        #update B_r, B_phi, and alpha_m using k2 values\n",
    "        B_r_k2 = B_r + 0.5*dt*k2_r\n",
    "        B_phi_k2 = B_phi + 0.5*dt*k2_phi\n",
    "        alpha_m_k2 = alpha_m + 0.5*dt*k2_alpha_m\n",
    "\n",
    "        # Calculate spatial derivatives for alpha_m_k2\n",
    "        der_alpha_m_k2 = first_der(alpha_m_k2, dr, ghost_zone_type='relative anti-symmetric', order=6)\n",
    "        d_sq_alpha_m_k2 = second_der(alpha_m_k2, dr, ghost_zone_type='relative anti-symmetric', order=6)\n",
    "        db_r_dr, db_phi_dr, d_sq_Br_dr, d_sq_Bphi_dr = spatial_derivative(B_r_k2, B_phi_k2, dr, 'anti-symmetric', 6)\n",
    "        der_alpha_k = first_der(alpha_k, dr, ghost_zone_type='symmetric', order=6)\n",
    "\n",
    "        # Calculate k3 values\n",
    "        k3_r = dB_r_dt(B_r_k2,B_phi_k2,U_z,db_r_dr,d_sq_Br_dr,db_phi_dr,d_sq_Bphi_dr,alpha_k,alpha_m_k2,der_alpha_k,der_alpha_m_k2,d_sq_alpha_m_k2,dt)\n",
    "        k3_phi = dB_phi_dt(B_phi_k2,B_r_k2,U_z,db_phi_dr,d_sq_Bphi_dr,db_r_dr,d_sq_Br_dr,alpha_k,alpha_m_k2,der_alpha_k,der_alpha_m_k2,d_sq_alpha_m_k2,dt)\n",
    "        k3_alpha_m = d_alpha_m_dt(B_r_k2,B_phi_k2,U_z,db_r_dr,db_phi_dr,d_sq_Br_dr,d_sq_Bphi_dr,alpha_k,alpha_m_k2,der_alpha_k,der_alpha_m_k2,d_sq_alpha_m_k2,dt)\n",
    "\n",
    "        #update B_r, B_phi, and alpha_m using k3 values\n",
    "        B_r_k3 = B_r + dt*k3_r\n",
    "        B_phi_k3 = B_phi + dt*k3_phi\n",
    "        alpha_m_k3 = alpha_m + dt*k3_alpha_m\n",
    "\n",
    "        # Calculate spatial derivatives for alpha_m_k3\n",
    "        der_alpha_m_k3 = first_der(alpha_m_k3, dr, ghost_zone_type='relative anti-symmetric', order=6)\n",
    "        d_sq_alpha_m_k3 = second_der(alpha_m_k3, dr, ghost_zone_type='relative anti-symmetric', order=6)\n",
    "        db_r_dr, db_phi_dr, d_sq_Br_dr, d_sq_Bphi_dr = spatial_derivative(B_r_k3, B_phi_k3, dr, 'anti-symmetric', 6)\n",
    "        der_alpha_k = first_der(alpha_k, dr, ghost_zone_type='symmetric', order=6)\n",
    "\n",
    "        # Calculate k4 values\n",
    "        k4_r = dB_r_dt(B_r_k3,B_phi_k3,U_z,db_r_dr,d_sq_Br_dr,db_phi_dr,d_sq_Bphi_dr,alpha_k,alpha_m_k3,der_alpha_k,der_alpha_m_k3,d_sq_alpha_m_k3,dt)\n",
    "        k4_phi = dB_phi_dt(B_phi_k3,B_r_k3,U_z,db_phi_dr,d_sq_Bphi_dr,db_r_dr,d_sq_Br_dr,alpha_k,alpha_m_k3,der_alpha_k,der_alpha_m_k3,d_sq_alpha_m_k3,dt)\n",
    "        k4_alpha_m = d_alpha_m_dt(B_r_k3,B_phi_k3,U_z,db_r_dr,db_phi_dr,d_sq_Br_dr,d_sq_Bphi_dr,alpha_k,alpha_m_k3,der_alpha_k,der_alpha_m_k3,d_sq_alpha_m_k3,dt)\n",
    "\n",
    "        #update B_r, B_phi, and alpha_m using k4 values\n",
    "        B_r = B_r + (dt/6)*(k1_r + 2*k2_r + 2*k3_r + k4_r)\n",
    "        B_phi = B_phi + (dt/6)*(k1_phi + 2*k2_phi + 2*k3_phi + k4_phi)\n",
    "        alpha_m = alpha_m + (dt/6)*(k1_alpha_m + 2*k2_alpha_m + 2*k3_alpha_m + k4_alpha_m)\n",
    "        B_list = np.append(B_list,[[B_r],[B_phi],[alpha_m]],axis=1)\n",
    "    return B_list\n",
    "\n",
    "    \n",
    "  \n",
    "alpha_k=R_alpha*alpha_tilda\n",
    "\n",
    "# Assuming alpha_k, B_eq, R_alpha, R_omega, R_u, R_k, Nt, and U_z are defined somewhere in your code\n",
    "B_list = RK4(B_list, B_r, B_phi, alpha_m,alpha_k, U_z, dt, dr, Nt, l, B_eq, R_alpha, R_omega, R_u, R_k)\n",
    "print(B_list.shape)\n",
    "\n",
    "np.save(\"Dynamic_u0k3.npy\", B_list)\n",
    "\n",
    "\n",
    "\n",
    "\n",
    "    \n"
   ]
  },
  {
   "cell_type": "markdown",
   "metadata": {},
   "source": []
  },
  {
   "cell_type": "code",
   "execution_count": 16,
   "metadata": {},
   "outputs": [
    {
     "name": "stdout",
     "output_type": "stream",
     "text": [
      "(3, 54001, 51)\n",
      "(54001, 51) (54001, 51) (54001, 51)\n"
     ]
    }
   ],
   "source": [
    "print(B_list.shape)\n",
    "B_r_list = B_list[0]\n",
    "B_phi_list = B_list[1]\n",
    "alpha_m_list = B_list[2]\n",
    "\n",
    "print(B_r_list.shape, B_phi_list.shape, alpha_m_list.shape)"
   ]
  },
  {
   "cell_type": "code",
   "execution_count": 17,
   "metadata": {},
   "outputs": [
    {
     "name": "stdout",
     "output_type": "stream",
     "text": [
      "(54001, 51)\n"
     ]
    }
   ],
   "source": [
    "B_strength = np.sqrt(B_r_list**2 + B_phi_list**2)\n",
    "print(B_strength.shape)"
   ]
  },
  {
   "cell_type": "code",
   "execution_count": 18,
   "metadata": {},
   "outputs": [
    {
     "data": {
      "image/png": "[encoded data removed]",
      "text/plain": [
       "<Figure size 640x480 with 1 Axes>"
      ]
     },
     "metadata": {},
     "output_type": "display_data"
    },
    {
     "data": {
      "image/png": "[encoded data removed]",
      "text/plain": [
       "<Figure size 640x480 with 1 Axes>"
      ]
     },
     "metadata": {},
     "output_type": "display_data"
    }
   ],
   "source": [
    "\n",
    "#plot time vs strength\n",
    "time=np.linspace(0,T,Nt+1)\n",
    "#make time binto myr using eta_dim and h\n",
    "time = time*eta_dim/h\n",
    "\n",
    "space_index = 45\n",
    "plt.plot(time,B_strength[:,space_index])\n",
    "plt.xlabel('t')\n",
    "plt.ylabel(f'B_strength at [{space_index}]')\n",
    "plt.yscale('log')\n",
    "plt.show()\n",
    "plt.plot(time,alpha_m_list[:,space_index])\n",
    "plt.xlabel('t')\n",
    "plt.ylabel(f'alpha_m at [{space_index}]')\n",
    "plt.show()\n"
   ]
  },
  {
   "cell_type": "code",
   "execution_count": 19,
   "metadata": {},
   "outputs": [
    {
     "data": {
      "image/png": "[encoded data removed]",
      "text/plain": [
       "<Figure size 640x480 with 1 Axes>"
      ]
     },
     "metadata": {},
     "output_type": "display_data"
    }
   ],
   "source": [
    "\n",
    "#plot time vs strength\n",
    "time=np.linspace(0,T,Nt+1)\n",
    "\n",
    "time = time*eta_dim/h\n",
    "plt.plot(time,B_strength[:,25])\n",
    "plt.xlabel('t [Myr]')\n",
    "plt.title('B_strength vs time, algebraic quenching, no outflow')\n",
    "\n",
    "plt.ylabel('B_strength / B_0')\n",
    "plt.yscale('log')\n",
    "plt.show()"
   ]
  }
 ],
 "metadata": {
  "kernelspec": {
   "display_name": "Python 3",
   "language": "python",
   "name": "python3"
  },
  "language_info": {
   "codemirror_mode": {
    "name": "ipython",
    "version": 3
   },
   "file_extension": ".py",
   "mimetype": "text/x-python",
   "name": "python",
   "nbconvert_exporter": "python",
   "pygments_lexer": "ipython3",
   "version": "3.10.12"
  }
 },
 "nbformat": 4,
 "nbformat_minor": 2
}
